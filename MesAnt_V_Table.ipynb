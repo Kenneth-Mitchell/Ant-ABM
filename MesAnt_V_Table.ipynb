{
  "cells": [
    {
      "cell_type": "code",
      "execution_count": 188,
      "metadata": {
        "id": "DHa9FFde3VjE"
      },
      "outputs": [],
      "source": [
        "# !pip install mesa\n",
        "# !apt-get install graphviz libgraphviz-dev pkg-config\n",
        "# !pip install pygraphviz"
      ]
    },
    {
      "cell_type": "markdown",
      "metadata": {
        "id": "ysol8yIbLF_2"
      },
      "source": [
        "### A billion import statements:\n",
        "\n",
        "Imports of note:\n",
        "+ mesa is the library I use for agent based modeling. https://mesa.readthedocs.io/en/latest/\n",
        "+ numpy and pandas are used for data manipulation. https://numpy.org/ | https://pandas.pydata.org/\n",
        "+ matplotlib is used for graphing. https://matplotlib.org/\n",
        "+ networkx is used to create the network representation of the tree and for graphing. https://networkx.org/\n"
      ]
    },
    {
      "cell_type": "code",
      "execution_count": 189,
      "metadata": {
        "id": "a5hYREhULF_5"
      },
      "outputs": [],
      "source": [
        "from mesa import Agent, Model\n",
        "from mesa.time import RandomActivation\n",
        "from mesa.space import NetworkGrid\n",
        "from mesa.datacollection import DataCollector\n",
        "from networkx.classes.function import get_node_attributes, set_node_attributes, set_edge_attributes, get_edge_attributes\n",
        "import time, enum, math\n",
        "import numpy as np\n",
        "import pandas as pd\n",
        "import pylab as plt\n",
        "import networkx as nx\n",
        "from networkx.drawing.nx_agraph import write_dot, graphviz_layout, read_dot\n",
        "import matplotlib.pyplot as plt\n",
        "import matplotlib.colors as clr\n",
        "import itertools\n",
        "import random\n",
        "import json\n",
        "from read_treekey import read_treekey, read_predictions"
      ]
    },
    {
      "cell_type": "markdown",
      "metadata": {
        "id": "ZsbtjQPzLF_6"
      },
      "source": [
        "### Settings:\n"
      ]
    },
    {
      "cell_type": "code",
      "execution_count": 190,
      "metadata": {
        "id": "fv-vzn6SLF_6"
      },
      "outputs": [],
      "source": [
        "colony = False #if false, individual model. If true, colony model.\n"
      ]
    },
    {
      "cell_type": "markdown",
      "metadata": {
        "id": "WYfeXRHvLF_7"
      },
      "source": [
        "### Parameters for the model:"
      ]
    },
    {
      "cell_type": "code",
      "execution_count": 191,
      "metadata": {
        "id": "Qv9ypYy0LF_7"
      },
      "outputs": [],
      "source": [
        "parameters = {\n",
        "    'left' : 1, # left bias\n",
        "    'right' : 1.074, # right bias\n",
        "    'width' : 0.51, # width bias\n",
        "    'u-turn' : 1, # u-turn bias\n",
        "\n",
        "    'padd' : 0.025, # the amount of pheromone added by an ant in 1 time step (0.1)\n",
        "    'pdecay' : 0.15, # this percentage of pheromone at a node is decayed each time step (.15)\n",
        "\n",
        "    'leave_home' : 0.1 # the probability for an ant to leave their home each time step (.1)\n",
        "\n",
        "}\n",
        "other_params ={\n",
        "    'treekey_file' : 'treekey.csv',\n",
        "    'predictions_file' : 'NetworksSummer2021-TurnPredictions.csv',\n",
        "    'color_map' : [(0.12156862745098039, 0.4666666666666667, 0.7058823529411765, 0.14), (0.12156862745098039, 0.4666666666666667, 0.7058823529411765, 0.4257142857142857), (0.12156862745098039, 0.4666666666666667, 0.7058823529411765, 0.7114285714285714), (0.12156862745098039, 0.4666666666666667, 0.7058823529411765, 0.9971428571428571), (1.0, 0.4980392156862745, 0.054901960784313725, 0.14), (1.0, 0.4980392156862745, 0.054901960784313725, 0.4257142857142857), (1.0, 0.4980392156862745, 0.054901960784313725, 0.7114285714285714), (1.0, 0.4980392156862745, 0.054901960784313725, 0.9971428571428571), (0.17254901960784313, 0.6274509803921569, 0.17254901960784313, 0.14), (0.17254901960784313, 0.6274509803921569, 0.17254901960784313, 0.4257142857142857), (0.17254901960784313, 0.6274509803921569, 0.17254901960784313, 0.7114285714285714), (0.17254901960784313, 0.6274509803921569, 0.17254901960784313, 0.9971428571428571), (0.8392156862745098, 0.15294117647058825, 0.1568627450980392, 0.14), (0.8392156862745098, 0.15294117647058825, 0.1568627450980392, 0.4257142857142857), (0.8392156862745098, 0.15294117647058825, 0.1568627450980392, 0.7114285714285714), (0.8392156862745098, 0.15294117647058825, 0.1568627450980392, 0.9971428571428571), (0.5803921568627451, 0.403921568627451, 0.7411764705882353, 0.14), (0.5803921568627451, 0.403921568627451, 0.7411764705882353, 0.4257142857142857), (0.5803921568627451, 0.403921568627451, 0.7411764705882353, 0.7114285714285714), (0.5803921568627451, 0.403921568627451, 0.7411764705882353, 0.9971428571428571), (0.5490196078431373, 0.33725490196078434, 0.29411764705882354, 0.14), (0.5490196078431373, 0.33725490196078434, 0.29411764705882354, 0.4257142857142857), (0.5490196078431373, 0.33725490196078434, 0.29411764705882354, 0.7114285714285714), (0.5490196078431373, 0.33725490196078434, 0.29411764705882354, 0.9971428571428571), (0.8901960784313725, 0.4666666666666667, 0.7607843137254902, 0.14), (0.8901960784313725, 0.4666666666666667, 0.7607843137254902, 0.4257142857142857), (0.8901960784313725, 0.4666666666666667, 0.7607843137254902, 0.7114285714285714), (0.8901960784313725, 0.4666666666666667, 0.7607843137254902, 0.9971428571428571), (0.7372549019607844, 0.7411764705882353, 0.13333333333333333, 0.14), (0.7372549019607844, 0.7411764705882353, 0.13333333333333333, 0.4257142857142857), (0.7372549019607844, 0.7411764705882353, 0.13333333333333333, 0.7114285714285714), (0.7372549019607844, 0.7411764705882353, 0.13333333333333333, 0.9971428571428571), (0.0, 0.0, 1.0, 1.0), (0.0, 0.0, 1.0, 1.0), (0.0, 0.0, 1.0, 1.0), (0.0, 0.0, 1.0, 1.0), (0.0, 0.0, 1.0, 1.0), (0.0, 0.0, 1.0, 1.0), (0.0, 0.0, 1.0, 1.0), (0.0, 0.0, 1.0, 1.0), (0.0, 0.0, 1.0, 1.0), (0.0, 0.0, 1.0, 1.0), (0.0, 0.0, 1.0, 1.0), (0.0, 0.0, 1.0, 1.0), (0.0, 0.0, 1.0, 1.0), (0.0, 0.0, 1.0, 1.0), (0.0, 0.0, 1.0, 1.0), (0.0, 0.0, 1.0, 1.0), (0.0, 0.0, 1.0, 1.0), (0.0, 0.0, 1.0, 1.0), (0.0, 0.0, 1.0, 1.0), (0.0, 0.0, 1.0, 1.0), (0.0, 0.0, 1.0, 1.0), (0.0, 0.0, 1.0, 1.0), (0.0, 0.0, 1.0, 1.0), (0.0, 0.0, 1.0, 1.0), (0.0, 0.0, 1.0, 1.0), (0.0, 0.0, 1.0, 1.0), (0.0, 0.0, 1.0, 1.0), (0.0, 0.0, 1.0, 1.0), (0.0, 0.0, 1.0, 1.0), (0.0, 0.0, 1.0, 1.0), (1.0, 0.0, 0.0, 1.0)]\n",
        "}"
      ]
    },
    {
      "cell_type": "code",
      "execution_count": 192,
      "metadata": {},
      "outputs": [],
      "source": [
        "treekey = read_treekey(file=other_params['treekey_file'])\n",
        "predictions = read_predictions(file=other_params['predictions_file'])"
      ]
    },
    {
      "cell_type": "markdown",
      "metadata": {
        "id": "7TxFzSW8LF_8"
      },
      "source": [
        "#### 2. Construction of a balanced tree from a leaf map.\n",
        "+ Given a leaf map, constructs a tree in networkx. The tree is built through joins of leaves, where a node is created to connect two leaves and its associated weight is the larger of the weights of the leaves. This process is repeated until reaching the center node."
      ]
    },
    {
      "cell_type": "code",
      "execution_count": 193,
      "metadata": {
        "id": "13fjlGpeLF_9"
      },
      "outputs": [],
      "source": [
        "def construct_tree(treekey=treekey, fooddist=['Food','Food','Nest','Node','Food','Food','Node','Nest','Node','Nest','Food','Food','Food','Food','Nest','Node','Node','Nest','Food','Food','Node','Nest','Food','Food','Nest','Node','Food','Food','Node','Nest','Food','Food']):\n",
        "    \"\"\" \n",
        "    Input: a dictionary of leaf names and branch widths leading to the leaves. Leaves are named with the convention 'LRLLRL', dictating how to get to the leaf.\n",
        "     + Also fooddist, a list of the tip types traveling clockwise. Used in the colony model.\n",
        "    Outputs: a tree constructed in networkx following the tree building rules (joining of LR names and weights).\n",
        "    \"\"\"\n",
        "    G = nx.read_weighted_edgelist(treekey)\n",
        "    # if colony: # deoesn't currently work with colony\n",
        "    #     i = 0\n",
        "    #     for leaf in leafd:\n",
        "    #         G.add_node(leaf, ntype = fooddist[i], ants=0) # Set leaves as a Food, Nest, or a Node\n",
        "    #         i+=1\n",
        "    # else:\n",
        "    nx.set_node_attributes(G, False, 'nest')\n",
        "    nx.set_node_attributes(G, 0, 'ants')\n",
        "\n",
        "    leaf_list = [node for node in G.nodes() if len(list(G.neighbors(node))) <= 1] #create list of leaves\n",
        "\n",
        "    nest_dict = dict.fromkeys(leaf_list, {'nest' : True})\n",
        "\n",
        "    nx.set_node_attributes(G, nest_dict)\n",
        "\n",
        "    G.remove_node('-1')\n",
        "    # while not 'O' in leafd:\n",
        "\n",
        "    #     leaf = list(leafd.keys())[0]\n",
        "\n",
        "    #     for leaf2 in leafd:\n",
        "    #         if leaf2 != leaf and len(leaf2) == len(leaf):\n",
        "    #             if leaf2[:len(leaf2)-1] == leaf[:len(leaf)-1]:\n",
        "    #                 junc = leaf[:len(leaf)-1] # The junction between two nodes is their name with the last letter cut off\n",
        "    #                 if colony: \n",
        "    #                     if junc == 'O':\n",
        "    #                         G.add_node(junc, ntype = \"Home\", ants=0) # Set start node as home\n",
        "    #                     else:\n",
        "    #                         G.add_node(junc, ntype = \"Node\", ants=0) # Other nodes are normal\n",
        "    #                 else: \n",
        "    #                     G.add_node(junc, nest = False, ants=0)\n",
        "\n",
        "    #                 G.add_edge(junc, leaf2, weight = leafd[leaf2], p = 0)\n",
        "    #                 G.add_edge(junc, leaf, weight = leafd[leaf], p = 0)\n",
        "                    \n",
        "                    \n",
        "    #                 leafd[junc] = (leafd[leaf] if leafd[leaf] > leafd[leaf2] else leafd[leaf2])\n",
        "    #                 del leafd[leaf]\n",
        "    #                 del leafd[leaf2]\n",
        "    #                 break\n",
        "    \n",
        "    return G\n",
        "\n",
        "# t = construct_tree()\n",
        "# print(t.edges(data=True))\n",
        "# print(t.nodes(data=True))"
      ]
    },
    {
      "cell_type": "markdown",
      "metadata": {
        "id": "yW6ll02pLF_9"
      },
      "source": [
        "#### 3. Drawing of the network and graph following an experiment.\n",
        "+ Called by experiment(), given a network, G, and the data from the experiment, constructs graph and network images."
      ]
    },
    {
      "cell_type": "code",
      "execution_count": 194,
      "metadata": {
        "id": "KjpTdplbLF_-"
      },
      "outputs": [],
      "source": [
        "def graph_draw(G,data,labels_ordered=True, show_pheromone=False,retrieve_data=False,retrieve_nest_data_only=True):\n",
        "    \"\"\"\n",
        "    Inputs: G, a tree in networkx and data from the Mesa model. Data is in the form of dictionary with time steps. Gross conversions proceed. Labels_ordered dictacts what naming scheme to use (True = clockwise, False = lab).\n",
        "    Output: draws a networkx plot and an area plot from a pandas dataframe\n",
        "    \"\"\"\n",
        "    datan = list(G.nodes(data=True))\n",
        "    nodes = G.nodes()\n",
        "    \n",
        "\n",
        "    # G = nx.relabel_nodes(G, lambda name: (int(name.replace('L','0').replace('R','1')[1:],2)+1) if len(name) == 6 else name)\n",
        "    # G = nx.relabel_nodes(G, lambda name: (chr(((name-1)//4) + 65) + str((name-1)%4) if isinstance(name,int) else name)) # Changes node labels from LR to clockwise\n",
        "    pos = graphviz_layout(G, prog = 'twopi') #prog = 'dot' for other view\n",
        "    plt.title(str(parameters))\n",
        "    \n",
        "    \n",
        "    colors = ['tab:blue', 'tab:orange', 'tab:green','tab:red', 'tab:purple', 'tab:brown', 'tab:pink', 'tab:olive'] # Color set from https://www.tableau.com/new-features/10.0\n",
        "    color_map = []\n",
        "    shape_dict = {}\n",
        "    datan = list(G.nodes(data=True)) # Load node ant pop data from tree\n",
        "    i = 0\n",
        "    if colony: #Colony colors:\n",
        "        for node in G:\n",
        "            if datan[i][1]['ntype'] == 'Nest':\n",
        "                color = clr.to_rgba(colors[ord(node[0])-65]) # Nest nodes are colored based on the node name\n",
        "                color_map.append(color)\n",
        "                shape_dict[node] = 'p'\n",
        "            elif datan[i][1]['ntype'] == \"Home\": # Home nest colored red\n",
        "                color_map.append(clr.to_rgba('red')) \n",
        "                shape_dict[node] = 'p'\n",
        "            elif datan[i][1]['ntype'] == \"Food\": # Food nodes are grey\n",
        "                color = clr.to_rgba('grey')\n",
        "                color = (color[0],color[1],color[2], color[3] - 0.5)\n",
        "                color_map.append(color) \n",
        "                shape_dict[node] = '^'\n",
        "            else: #Connection nodes are blue\n",
        "                color = clr.to_rgba('blue') \n",
        "                color = (color[0],color[1],color[2], color[3] - 0.5)\n",
        "                color_map.append(color) \n",
        "                shape_dict[node] = 'o'\n",
        "            i+=1\n",
        "    else: # Individual colors:\n",
        "        color_map = other_params['color_map']\n",
        "\n",
        "    \n",
        "    color_map_edge = []\n",
        "    weight_map = [G[u][v]['weight'] * 5 for u,v in G.edges()] # Load weight data\n",
        "\n",
        "    if not show_pheromone:\n",
        "      \n",
        "      for weight in weight_map: # Color edges based on their weights\n",
        "          if weight <= 0.253 * 5:\n",
        "              color_map_edge += ['lightgrey']\n",
        "          elif weight <= 0.338 * 5:\n",
        "              color_map_edge += ['darkgrey']\n",
        "          elif weight <= 0.45 * 5:\n",
        "              color_map_edge += ['grey']\n",
        "          else:\n",
        "              color_map_edge += ['black']\n",
        "\n",
        "\n",
        "    else:\n",
        "      p_map = [G[u][v]['p'] for u,v in G.edges()]\n",
        "      p_quantiles = np.quantile(p_map,[0.25,.5,.75])\n",
        "      for p in p_map: # Color edges based on their weights\n",
        "          if p <= p_quantiles[0]:\n",
        "              color_map_edge += ['lightgrey']\n",
        "          elif p <= p_quantiles[1]:\n",
        "              color_map_edge += ['darkgrey']\n",
        "          elif p <= p_quantiles[2]:\n",
        "              color_map_edge += ['grey']\n",
        "          else:\n",
        "              color_map_edge += ['black']\n",
        "    \n",
        "    \n",
        "        \n",
        "\n",
        "    if not labels_ordered: # If labels_ordered false, reassign node names based on the Carter nomenclature\n",
        "        d = {\"C0\":'1111',\"C1\":'1112',\"C2\":'1121',\"C3\":'1122','D0':'1211','D1':'1212','D2':'1221','D3':'1222','G0':'2111','G1':'2112','G2':'2121','G3':'2122','H0':'2211','H1':'2212','H2':'2221','H3':'2222','A0':'311','A1':'312','A2':'321','A3':'322','E0':'411','E1':'412','E2':'421','E3':'422','B0':'51','B1':'52','F2':'61','F3':'62','B2':'71','B3':'72','F0':'81','F1':'82'}\n",
        "        G = nx.relabel_nodes(G, d)\n",
        "        pos = graphviz_layout(G, prog = 'twopi')\n",
        "\n",
        "    name_map = {}\n",
        "    for node in G.nodes(): # Create a dictionary of node and their label\n",
        "        if not node[0] == 'O':\n",
        "            name_map[node] = node\n",
        "\n",
        "    node_size_map =[]\n",
        "    if colony:\n",
        "        node_size_map = [0 for node in G]\n",
        "    else:\n",
        "        i = 0\n",
        "        for node in G:\n",
        "            node_size_map.append(datan[i][1]['ants'] *10 + 20)\n",
        "            i+=1\n",
        "    \n",
        "\n",
        "    nx.draw_networkx(G, pos, node_color=color_map, node_size=node_size_map, edge_color = color_map_edge, with_labels=False, width = weight_map) # Draw network based on the maps built up. Labels to be applied later.\n",
        "    nx.draw_networkx_labels(G,pos,name_map,font_size=16,font_color='black') # Label nodes now, using the correct name mapping\n",
        "    node_size_map=[]\n",
        "    \n",
        "    if colony: # redraw with proper node shapes\n",
        "        i = 0\n",
        "        for node in G:\n",
        "            node_size_map.append(datan[i][1]['ants'] *10 + 20)\n",
        "            i+=1\n",
        "        for shape in ['^','p','o']:\n",
        "            set_node_attributes(G, shape_dict, 'shape')\n",
        "            # nodelist = [False for node in G.nodes()]\n",
        "            includes = [x[0] for x in list(filter(lambda x: x[1][\"shape\"]==shape,G.nodes(data = True)))]\n",
        "            nodelist=[]\n",
        "            color_map_new=[]\n",
        "            node_size_map_new=[]\n",
        "            i=0\n",
        "            for node in G.nodes():\n",
        "                if node in includes:\n",
        "                    nodelist.append(node)\n",
        "                    node_size_map_new.append(node_size_map[i])\n",
        "                    color_map_new.append(color_map[i])\n",
        "                i+=1\n",
        "                nx.draw_networkx_nodes(G, pos, node_color = color_map_new, node_size = node_size_map_new, node_shape = shape, nodelist=nodelist)\n",
        "\n",
        "    \n",
        "    plt.gca().invert_xaxis() # To make the tree look proper to the lab (it is mirrored otherwise)\n",
        "    if retrieve_data:\n",
        "        plt.savefig('networkplot.png',dpi=300,bbox_inches='tight')\n",
        "    # files.download('networkplot.png')\n",
        "   \n",
        "    # Creating the area plot\n",
        "    datadict = {}\n",
        "    datadictlist = [datadict]\n",
        "    for i in range(int(len(data['Position'])/len(data['Position'][0]))): # \n",
        "        \n",
        "        for k in range(len(data['Position'][i])):\n",
        "            if not data['Position'][i][k] in datadict:\n",
        "                datadict[data['Position'][i][k]] = 1\n",
        "            else:\n",
        "                datadict[data['Position'][i][k]] += 1\n",
        "\n",
        "        for node in nodes:\n",
        "            if not node in datadict:\n",
        "                datadict[node] = 0\n",
        "            \n",
        "\n",
        "        datadictlist+=[datadict]\n",
        "        datadict = {}\n",
        "    datadictlist = datadictlist[1:]\n",
        "\n",
        "\n",
        "    ax = pd.DataFrame(datadictlist).plot.area(colormap=clr.ListedColormap([color_map[-1]]+color_map[:-1]))\n",
        "    \n",
        "    ax.set_ylabel('ants')\n",
        "    ax.set_xlabel('time')\n",
        "\n",
        "    ax.get_legend().remove()\n",
        "    plt.title(str(parameters))\n",
        "    \n",
        "    if retrieve_data:\n",
        "\n",
        "        output_file = open('output.txt', 'w', encoding='utf-8')\n",
        "        for dic in datadictlist:\n",
        "            dic = {(int(k.replace('L','0').replace('R','1')[1:],2)+1) if len(k) == 6 else k:v for k,v in dic.items()}\n",
        "            dic = {(chr(((k-1)//4) + 65) + str((k-1)%4)) if isinstance(k,int) else k:v for k,v in dic.items()}\n",
        "            if retrieve_nest_data_only:\n",
        "                nest_names = [\"A2\", \"B3\", \"C1\", \"D2\", \"E1\", \"F1\", \"G1\", \"H1\"]\n",
        "                dic = {k:v for k,v in dic.items() if k in nest_names}\n",
        "            json.dump(dic, output_file) \n",
        "            output_file.write(\"\\n\")\n",
        "        plt.savefig('areaplot.png',dpi=300,bbox_inches='tight') \n",
        "    \n",
        "    plt.show()"
      ]
    },
    {
      "cell_type": "markdown",
      "metadata": {
        "id": "qO0tXzMSLF__"
      },
      "source": [
        "## Agent Class\n",
        "A class which stores information about position and previous position."
      ]
    },
    {
      "cell_type": "code",
      "execution_count": 195,
      "metadata": {
        "id": "hM4CFUfOLF__"
      },
      "outputs": [],
      "source": [
        "class States(enum.Enum): # for colony model only\n",
        "    \"\"\"\n",
        "    Enum class listing the possible ant states\n",
        "    \"\"\"\n",
        "    WAITING_HOME = 0\n",
        "    WAITING_NEST = 1\n",
        "    SEARCHING = 2\n",
        "    RETURNING = 3\n",
        "\n",
        "class AgAnt(Agent):\n",
        "    \"\"\"\n",
        "    The AgAnt class is a custom agent class in mesa, with unique ids and created in a specified model. They store information about their position (node O to start) and previous positions.\n",
        "    They make decisions about where to move based on their previous position, current position, and biases. Agents do not interact in this model.\n",
        "    \"\"\"\n",
        "    def __init__(self,unique_id,model):\n",
        "        super().__init__(unique_id,model)\n",
        "        self.pos = '0'\n",
        "        self.ppos = '-1'\n",
        "        self.neighbors = list(self.model.G.neighbors(self.pos))\n",
        "        if colony: self.state = States.WAITING_HOME\n",
        "\n",
        "    def choice(self):\n",
        "        \"\"\"\n",
        "        Inputs: self\n",
        "        Outputs: A choice of neighbor to move to next based on the options availible and biases.\n",
        "        \"\"\"\n",
        "        if len(self.neighbors) == 1:\n",
        "            return self.neighbors[0]\n",
        "\n",
        "        elif len(self.neighbors) == 2:\n",
        "            approach = (self.ppos, self.pos)\n",
        "            probs = predictions[approach] #ULR\n",
        "\n",
        "            turn_types = pd.read_csv(other_params['predictions_file'], usecols=[\"Node.From\", \"Node.To\", \"Turn.Type\"])\n",
        "            U = '-1'\n",
        "            L = '-1'\n",
        "            R = '-1'\n",
        "\n",
        "            for neighbor in self.neighbors: #TODO MAKe an update neighbors funciton\n",
        "                if neighbor == self.ppos:\n",
        "                    U = neighbor\n",
        "                elif turn_types[(turn_types['Node.From'] == int(self.ppos)) & (turn_types['Node.To'] == int(neighbor))].iat[0,2] == 'L':\n",
        "                    L = neighbor\n",
        "                else:\n",
        "                    R = neighbor\n",
        "\n",
        "            self.neighbors = [U, L, R]\n",
        "            if U == '-1':\n",
        "                newprobs = []\n",
        "                newprobs+= [0]\n",
        "                newprobs+= [probs[1]/(sum(probs)-probs[0])]\n",
        "                newprobs+= [probs[2]/(sum(probs)-probs[0])]\n",
        "                probs = newprobs[0],newprobs[1],newprobs[2]\n",
        "\n",
        "                r = random.random()\n",
        "                if r < probs[1]: #broken stick model\n",
        "                    return self.neighbors[1] #L\n",
        "                else:\n",
        "                    return self.neighbors[2] #R\n",
        "\n",
        "            elif L == '-1':\n",
        "                newprobs = []\n",
        "                newprobs+= [probs[0]/(sum(probs)-probs[1])]\n",
        "                newprobs+= [0]\n",
        "                newprobs+= [probs[2]/(sum(probs)-probs[1])]\n",
        "                probs = newprobs[0],newprobs[1],newprobs[2]\n",
        "                r = random.random()\n",
        "                if r < probs[0]: #broken stick model\n",
        "                    return self.neighbors[0]\n",
        "                else:\n",
        "                    return self.neighbors[2] #R\n",
        "\n",
        "            elif R == '-1':\n",
        "                newprobs = []\n",
        "                newprobs+= [probs[0]/(sum(probs)-probs[2])]\n",
        "                newprobs+= [probs[1]/(sum(probs)-probs[2])]\n",
        "                newprobs+= [0]\n",
        "                probs = newprobs[0],newprobs[1],newprobs[2]\n",
        "\n",
        "                r = random.random()\n",
        "                if r < probs[0]: #broken stick model\n",
        "                    return self.neighbors[0]\n",
        "                else:\n",
        "                    return self.neighbors[1] #L\n",
        "\n",
        "\n",
        "\n",
        "        else:\n",
        "            approach = (self.ppos, self.pos)\n",
        "            probs = predictions[approach] #ULR\n",
        "\n",
        "            turn_types = pd.read_csv(other_params['predictions_file'], usecols=[\"Node.From\", \"Node.To\", \"Turn.Type\"])\n",
        "            \n",
        "            U = self.ppos\n",
        "\n",
        "            for neighbor in self.neighbors: #TODO MAKe an update neighbors funciton\n",
        "\n",
        "                if neighbor == self.ppos:\n",
        "                    U = neighbor\n",
        "            \n",
        "                elif turn_types[(turn_types['Node.From'] == int(self.ppos)) & (turn_types['Node.To'] == int(neighbor))].iat[0,2] == 'L':\n",
        "                    L = neighbor\n",
        "                else:\n",
        "                    R = neighbor\n",
        "\n",
        "            self.neighbors = [U, L, R]            \n",
        "            r = random.random()\n",
        "            if r < probs[0]: #broken stick model\n",
        "                return self.neighbors[0]\n",
        "            elif r < probs[0]+probs[1]:\n",
        "                return self.neighbors[1] #L\n",
        "            else:\n",
        "                return self.neighbors[2] #R\n",
        "\n",
        "    def move(self):\n",
        "        \"\"\"\n",
        "        Moves the ant if not at a nest, otherwise does not.\n",
        "        \"\"\"\n",
        "        if colony: \n",
        "            if self.state == States.RETURNING:\n",
        "                    \n",
        "                node = self.choice()\n",
        "\n",
        "                ants = {self.pos : {'ants' : get_node_attributes(self.model.G, 'ants')[self.pos] - 1}, node : { 'ants' : get_node_attributes(self.model.G, 'ants')[node] + 1}}\n",
        "                p = {(self.pos,node) : {'p' : self.model.G.get_edge_data(self.pos,node)['p'] + parameters['padd']}}\n",
        "                self.ppos = self.pos\n",
        "                self.model.grid.move_agent(self, node)\n",
        "                self.neighbors = list(self.model.G.neighbors(self.pos))\n",
        "                set_node_attributes(self.model.G, ants)\n",
        "                set_edge_attributes(self.model.G, p)\n",
        "\n",
        "            elif self.state == States.SEARCHING:\n",
        "\n",
        "                \n",
        "                node = self.choice()\n",
        "\n",
        "                ants = {self.pos : {'ants' : get_node_attributes(self.model.G, 'ants')[self.pos] - 1}, node : { 'ants' : get_node_attributes(self.model.G, 'ants')[node] + 1}}\n",
        "                self.ppos = self.pos\n",
        "                self.model.grid.move_agent(self, node)\n",
        "                self.neighbors = list(self.model.G.neighbors(self.pos))\n",
        "                set_node_attributes(self.model.G, ants)\n",
        "            \n",
        "        else: \n",
        "            if get_node_attributes(self.model.G, 'nest')[self.pos]:\n",
        "                return self.pos\n",
        "            else:\n",
        "                \n",
        "                node = self.choice()\n",
        "\n",
        "                ants = {self.pos : {'ants' : get_node_attributes(self.model.G, 'ants')[self.pos] - 1}, node : { 'ants' : get_node_attributes(self.model.G, 'ants')[node] + 1}}\n",
        "                self.ppos = self.pos\n",
        "                self.model.grid.move_agent(self, node)\n",
        "                self.neighbors = list(self.model.G.neighbors(self.pos))\n",
        "                set_node_attributes(self.model.G, ants)\n",
        "\n",
        "            return node\n",
        "\n",
        "    def update(self):\n",
        "        \"\"\"\n",
        "        Updates the ant's state based on their position in the tree.\n",
        "        \"\"\"\n",
        "        if get_node_attributes(self.model.G, 'ntype')[self.pos] == 'Nest':\n",
        "            self.state = States.WAITING_NEST\n",
        "        elif get_node_attributes(self.model.G, 'ntype')[self.pos] == 'Food':\n",
        "            self.state = States.RETURNING\n",
        "        elif get_node_attributes(self.model.G, 'ntype')[self.pos] == 'Home':\n",
        "            self.state = States.WAITING_HOME\n",
        "\n",
        "    def step(self):\n",
        "        if not colony: \n",
        "            self.move()\n",
        "        else:\n",
        "            if self.state == States.WAITING_HOME:\n",
        "                if random.random() < parameters['leave_home']:\n",
        "                    self.state = States.SEARCHING\n",
        "                    self.move()\n",
        "\n",
        "            elif self.state == States.WAITING_NEST:\n",
        "                p0 = parameters['leave_home']\n",
        "                r = 0.2\n",
        "                a = 10\n",
        "                x = get_node_attributes(self.model.G, 'ants')[self.pos]\n",
        "                chance = -((1-p0)/(1 + math.exp(-r*(x-a)))) + 1\n",
        "                if random.random() < chance:\n",
        "                    self.state = States.RETURNING\n",
        "                    self.move()\n",
        "\n",
        "            elif self.state == States.SEARCHING: \n",
        "                self.move()\n",
        "            \n",
        "            elif self.state == States.RETURNING:\n",
        "                self.move()\n",
        "            \n",
        "            self.update()"
      ]
    },
    {
      "cell_type": "markdown",
      "metadata": {
        "id": "XxEL5e0ILGAA"
      },
      "source": [
        "## Model Class\n",
        "A class which stores information about the network and model, so data can be collected and analyzed."
      ]
    },
    {
      "cell_type": "code",
      "execution_count": 196,
      "metadata": {
        "id": "SHyZPxAVLGAB"
      },
      "outputs": [],
      "source": [
        "class TreeModel(Model):\n",
        "    \"\"\"\n",
        "    TreeModel class has a tree, schedule (order in which to activate agents), grid (network), and a datacollector (what data to collect, position in this case)\n",
        "    \"\"\"\n",
        "\n",
        "    def __init__(self, G, pop):\n",
        "        self.G = G\n",
        "        self.schedule = RandomActivation(self)\n",
        "        self.grid = NetworkGrid(self.G)\n",
        "        for i in range(pop):\n",
        "            ant = AgAnt(i, self)\n",
        "\n",
        "            self.schedule.add(ant)\n",
        "            self.grid.place_agent(ant, '0')\n",
        "        ants = {'0' : {'ants' : pop}}\n",
        "        set_node_attributes(self.G, ants)\n",
        "\n",
        "        self.datacollector = DataCollector(agent_reporters={'Position' : \"pos\"})\n",
        "        \n",
        "\n",
        "    def step(self):\n",
        "        self.datacollector.collect(self)\n",
        "        self.schedule.step()\n",
        "        if colony: self.updatep(self.G)\n",
        "    \n",
        "    def updatep(self, G):\n",
        "        \"\"\"\n",
        "        Updates pheromones based on pdecay, but doesn't go below 0.\n",
        "        \"\"\"\n",
        "        p = get_edge_attributes(G,'p')\n",
        "        for key in p:\n",
        "            p[key] = p[key] * (1-parameters['pdecay'])\n",
        "            if p[key] < 0:\n",
        "                p[key] = 0\n",
        "    "
      ]
    },
    {
      "cell_type": "markdown",
      "metadata": {
        "id": "j6c4Fq07LGAB"
      },
      "source": [
        "## Analytical functions:"
      ]
    },
    {
      "cell_type": "code",
      "execution_count": 197,
      "metadata": {
        "id": "YzUoQBpqLGAB"
      },
      "outputs": [],
      "source": [
        "def sim(n = 10, ants = 100, data = False):\n",
        "    \"\"\"\n",
        "    Sim runs a model for n steps on ants ants, and returns either the tree on its own or the data too if specified. The default tree is provided below.\n",
        "    \"\"\"\n",
        "\n",
        "    model = TreeModel(construct_tree(), ants)\n",
        "    for i in range(n):\n",
        "        model.step()\n",
        "\n",
        "        # if i == 49:\n",
        "        #   print(get_edge_attributes(model.G,'p'))\n",
        "        \n",
        "    if data:\n",
        "        return model.G, model.datacollector.get_agent_vars_dataframe()\n",
        "\n",
        "    return model.G\n",
        "\n",
        "def experiment(n=50, ants = 1000, relabel=True, show_pheromone=False, retrieve_data=True, retrieve_nest_data_only=False):\n",
        "    \"\"\"\n",
        "    experiment simply calls sim then draws the graphs. relabel true means clockwise labels, false means lab labels.\n",
        "    Sample run: experiment(50,1000)\n",
        "    \"\"\"\n",
        "    G,data = sim(n,ants,True)\n",
        "    graph_draw(G,data,relabel,show_pheromone,retrieve_data,retrieve_nest_data_only)"
      ]
    },
    {
      "cell_type": "markdown",
      "metadata": {
        "id": "idGsFVQ5LGAC"
      },
      "source": [
        "## Function calls to try:"
      ]
    },
    {
      "cell_type": "code",
      "execution_count": 198,
      "metadata": {
        "colab": {
          "base_uri": "https://localhost:8080/",
          "height": 576
        },
        "id": "9dAW2_jYLGAC",
        "outputId": "179c8ba3-777a-47c5-f119-679e87f6d131"
      },
      "outputs": [
        {
          "data": {
            "image/png": "[encoded data removed]",
            "text/plain": [
              "<Figure size 432x288 with 1 Axes>"
            ]
          },
          "metadata": {},
          "output_type": "display_data"
        },
        {
          "data": {
            "image/png": "[encoded data removed]",
            "text/plain": [
              "<Figure size 432x288 with 1 Axes>"
            ]
          },
          "metadata": {
            "needs_background": "light"
          },
          "output_type": "display_data"
        }
      ],
      "source": [
        "experiment(50,10000) # time steps, ants"
      ]
    }
  ],
  "metadata": {
    "colab": {
      "collapsed_sections": [
        "WYfeXRHvLF_7",
        "qO0tXzMSLF__",
        "XxEL5e0ILGAA"
      ],
      "name": "MesAnt.ipynb",
      "provenance": []
    },
    "kernelspec": {
      "display_name": "Python 3.9.5 ('base')",
      "language": "python",
      "name": "python3"
    },
    "language_info": {
      "codemirror_mode": {
        "name": "ipython",
        "version": 3
      },
      "file_extension": ".py",
      "mimetype": "text/x-python",
      "name": "python",
      "nbconvert_exporter": "python",
      "pygments_lexer": "ipython3",
      "version": "3.9.5"
    },
    "orig_nbformat": 4,
    "vscode": {
      "interpreter": {
        "hash": "6344822d492651c1dfe2925134066c213826a42b39bcd291d1f0d085b7ebbe37"
      }
    }
  },
  "nbformat": 4,
  "nbformat_minor": 0
}
